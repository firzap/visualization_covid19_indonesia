{
  "nbformat": 4,
  "nbformat_minor": 0,
  "metadata": {
    "colab": {
      "name": "Trend Covid19 Indonesia.ipynb",
      "provenance": []
    },
    "kernelspec": {
      "name": "python3",
      "display_name": "Python 3"
    },
    "accelerator": "GPU"
  },
  "cells": [
    {
      "cell_type": "code",
      "metadata": {
        "id": "KDLsIqOwFTY8",
        "colab_type": "code",
        "colab": {}
      },
      "source": [
        "import pandas as pd\n",
        "import matplotlib.pyplot as plt"
      ],
      "execution_count": 38,
      "outputs": []
    },
    {
      "cell_type": "code",
      "metadata": {
        "id": "6wmdbdMjGjbK",
        "colab_type": "code",
        "colab": {}
      },
      "source": [
        "df = pd.read_csv('data_covid19_indonesia_terkini.csv')"
      ],
      "execution_count": 23,
      "outputs": []
    },
    {
      "cell_type": "code",
      "metadata": {
        "id": "2VTXi_YNGsLJ",
        "colab_type": "code",
        "colab": {
          "base_uri": "https://localhost:8080/",
          "height": 419
        },
        "outputId": "ee68f4a3-5799-43e6-c4d2-38cbf425df3b"
      },
      "source": [
        "df.head(90)"
      ],
      "execution_count": 24,
      "outputs": [
        {
          "output_type": "execute_result",
          "data": {
            "text/html": [
              "<div>\n",
              "<style scoped>\n",
              "    .dataframe tbody tr th:only-of-type {\n",
              "        vertical-align: middle;\n",
              "    }\n",
              "\n",
              "    .dataframe tbody tr th {\n",
              "        vertical-align: top;\n",
              "    }\n",
              "\n",
              "    .dataframe thead th {\n",
              "        text-align: right;\n",
              "    }\n",
              "</style>\n",
              "<table border=\"1\" class=\"dataframe\">\n",
              "  <thead>\n",
              "    <tr style=\"text-align: right;\">\n",
              "      <th></th>\n",
              "      <th>tanggal</th>\n",
              "      <th>total_kasus</th>\n",
              "      <th>kasus_harian</th>\n",
              "      <th>total_perawatan</th>\n",
              "      <th>perawatan_harian</th>\n",
              "      <th>total_sembuh</th>\n",
              "      <th>sembuh_harian</th>\n",
              "      <th>total_meninggal</th>\n",
              "      <th>meninggal_harian</th>\n",
              "    </tr>\n",
              "  </thead>\n",
              "  <tbody>\n",
              "    <tr>\n",
              "      <th>0</th>\n",
              "      <td>02-03-2020</td>\n",
              "      <td>2</td>\n",
              "      <td>2</td>\n",
              "      <td>2</td>\n",
              "      <td>2</td>\n",
              "      <td>0</td>\n",
              "      <td>0</td>\n",
              "      <td>0</td>\n",
              "      <td>0</td>\n",
              "    </tr>\n",
              "    <tr>\n",
              "      <th>1</th>\n",
              "      <td>03-03-2020</td>\n",
              "      <td>2</td>\n",
              "      <td>0</td>\n",
              "      <td>2</td>\n",
              "      <td>0</td>\n",
              "      <td>0</td>\n",
              "      <td>0</td>\n",
              "      <td>0</td>\n",
              "      <td>0</td>\n",
              "    </tr>\n",
              "    <tr>\n",
              "      <th>2</th>\n",
              "      <td>04-03-2020</td>\n",
              "      <td>2</td>\n",
              "      <td>0</td>\n",
              "      <td>2</td>\n",
              "      <td>0</td>\n",
              "      <td>0</td>\n",
              "      <td>0</td>\n",
              "      <td>0</td>\n",
              "      <td>0</td>\n",
              "    </tr>\n",
              "    <tr>\n",
              "      <th>3</th>\n",
              "      <td>05-03-2020</td>\n",
              "      <td>2</td>\n",
              "      <td>0</td>\n",
              "      <td>2</td>\n",
              "      <td>0</td>\n",
              "      <td>0</td>\n",
              "      <td>0</td>\n",
              "      <td>0</td>\n",
              "      <td>0</td>\n",
              "    </tr>\n",
              "    <tr>\n",
              "      <th>4</th>\n",
              "      <td>06-03-2020</td>\n",
              "      <td>4</td>\n",
              "      <td>2</td>\n",
              "      <td>4</td>\n",
              "      <td>2</td>\n",
              "      <td>0</td>\n",
              "      <td>0</td>\n",
              "      <td>0</td>\n",
              "      <td>0</td>\n",
              "    </tr>\n",
              "    <tr>\n",
              "      <th>...</th>\n",
              "      <td>...</td>\n",
              "      <td>...</td>\n",
              "      <td>...</td>\n",
              "      <td>...</td>\n",
              "      <td>...</td>\n",
              "      <td>...</td>\n",
              "      <td>...</td>\n",
              "      <td>...</td>\n",
              "      <td>...</td>\n",
              "    </tr>\n",
              "    <tr>\n",
              "      <th>85</th>\n",
              "      <td>26-05-2020</td>\n",
              "      <td>23165</td>\n",
              "      <td>415</td>\n",
              "      <td>15870</td>\n",
              "      <td>153</td>\n",
              "      <td>5877</td>\n",
              "      <td>235</td>\n",
              "      <td>1418</td>\n",
              "      <td>27</td>\n",
              "    </tr>\n",
              "    <tr>\n",
              "      <th>86</th>\n",
              "      <td>27-05-2020</td>\n",
              "      <td>23851</td>\n",
              "      <td>686</td>\n",
              "      <td>16321</td>\n",
              "      <td>451</td>\n",
              "      <td>6057</td>\n",
              "      <td>180</td>\n",
              "      <td>1473</td>\n",
              "      <td>55</td>\n",
              "    </tr>\n",
              "    <tr>\n",
              "      <th>87</th>\n",
              "      <td>28-05-2020</td>\n",
              "      <td>24538</td>\n",
              "      <td>687</td>\n",
              "      <td>16802</td>\n",
              "      <td>481</td>\n",
              "      <td>6240</td>\n",
              "      <td>183</td>\n",
              "      <td>1496</td>\n",
              "      <td>23</td>\n",
              "    </tr>\n",
              "    <tr>\n",
              "      <th>88</th>\n",
              "      <td>29-05-2020</td>\n",
              "      <td>25216</td>\n",
              "      <td>678</td>\n",
              "      <td>17204</td>\n",
              "      <td>402</td>\n",
              "      <td>6492</td>\n",
              "      <td>252</td>\n",
              "      <td>1520</td>\n",
              "      <td>24</td>\n",
              "    </tr>\n",
              "    <tr>\n",
              "      <th>89</th>\n",
              "      <td>30-05-2020</td>\n",
              "      <td>25773</td>\n",
              "      <td>557</td>\n",
              "      <td>17185</td>\n",
              "      <td>-19</td>\n",
              "      <td>7015</td>\n",
              "      <td>523</td>\n",
              "      <td>1573</td>\n",
              "      <td>53</td>\n",
              "    </tr>\n",
              "  </tbody>\n",
              "</table>\n",
              "<p>90 rows × 9 columns</p>\n",
              "</div>"
            ],
            "text/plain": [
              "       tanggal  total_kasus  ...  total_meninggal  meninggal_harian\n",
              "0   02-03-2020            2  ...                0                 0\n",
              "1   03-03-2020            2  ...                0                 0\n",
              "2   04-03-2020            2  ...                0                 0\n",
              "3   05-03-2020            2  ...                0                 0\n",
              "4   06-03-2020            4  ...                0                 0\n",
              "..         ...          ...  ...              ...               ...\n",
              "85  26-05-2020        23165  ...             1418                27\n",
              "86  27-05-2020        23851  ...             1473                55\n",
              "87  28-05-2020        24538  ...             1496                23\n",
              "88  29-05-2020        25216  ...             1520                24\n",
              "89  30-05-2020        25773  ...             1573                53\n",
              "\n",
              "[90 rows x 9 columns]"
            ]
          },
          "metadata": {
            "tags": []
          },
          "execution_count": 24
        }
      ]
    },
    {
      "cell_type": "code",
      "metadata": {
        "id": "FVijp_naGxq5",
        "colab_type": "code",
        "colab": {
          "base_uri": "https://localhost:8080/",
          "height": 289
        },
        "outputId": "6f460cfb-3ea4-4a7f-c5b3-693a75e4bfa3"
      },
      "source": [
        "df.info()"
      ],
      "execution_count": 25,
      "outputs": [
        {
          "output_type": "stream",
          "text": [
            "<class 'pandas.core.frame.DataFrame'>\n",
            "RangeIndex: 157 entries, 0 to 156\n",
            "Data columns (total 9 columns):\n",
            " #   Column            Non-Null Count  Dtype \n",
            "---  ------            --------------  ----- \n",
            " 0   tanggal           157 non-null    object\n",
            " 1   total_kasus       157 non-null    int64 \n",
            " 2   kasus_harian      157 non-null    int64 \n",
            " 3   total_perawatan   157 non-null    int64 \n",
            " 4   perawatan_harian  157 non-null    int64 \n",
            " 5   total_sembuh      157 non-null    int64 \n",
            " 6   sembuh_harian     157 non-null    int64 \n",
            " 7   total_meninggal   157 non-null    int64 \n",
            " 8   meninggal_harian  157 non-null    int64 \n",
            "dtypes: int64(8), object(1)\n",
            "memory usage: 11.2+ KB\n"
          ],
          "name": "stdout"
        }
      ]
    },
    {
      "cell_type": "code",
      "metadata": {
        "id": "5Hra74HsHxak",
        "colab_type": "code",
        "colab": {}
      },
      "source": [
        "df.drop(['total_perawatan','perawatan_harian'], axis=1, inplace=True)"
      ],
      "execution_count": 26,
      "outputs": []
    },
    {
      "cell_type": "code",
      "metadata": {
        "id": "CRxoxx2JSUhj",
        "colab_type": "code",
        "colab": {
          "base_uri": "https://localhost:8080/",
          "height": 204
        },
        "outputId": "b1beb026-4522-40ad-a47e-3ff885aa4520"
      },
      "source": [
        "df.head()"
      ],
      "execution_count": 36,
      "outputs": [
        {
          "output_type": "execute_result",
          "data": {
            "text/html": [
              "<div>\n",
              "<style scoped>\n",
              "    .dataframe tbody tr th:only-of-type {\n",
              "        vertical-align: middle;\n",
              "    }\n",
              "\n",
              "    .dataframe tbody tr th {\n",
              "        vertical-align: top;\n",
              "    }\n",
              "\n",
              "    .dataframe thead th {\n",
              "        text-align: right;\n",
              "    }\n",
              "</style>\n",
              "<table border=\"1\" class=\"dataframe\">\n",
              "  <thead>\n",
              "    <tr style=\"text-align: right;\">\n",
              "      <th></th>\n",
              "      <th>tanggal</th>\n",
              "      <th>total_kasus</th>\n",
              "      <th>kasus_harian</th>\n",
              "      <th>total_sembuh</th>\n",
              "      <th>sembuh_harian</th>\n",
              "      <th>total_meninggal</th>\n",
              "      <th>meninggal_harian</th>\n",
              "    </tr>\n",
              "  </thead>\n",
              "  <tbody>\n",
              "    <tr>\n",
              "      <th>0</th>\n",
              "      <td>02-03-2020</td>\n",
              "      <td>2</td>\n",
              "      <td>2</td>\n",
              "      <td>0</td>\n",
              "      <td>0</td>\n",
              "      <td>0</td>\n",
              "      <td>0</td>\n",
              "    </tr>\n",
              "    <tr>\n",
              "      <th>1</th>\n",
              "      <td>03-03-2020</td>\n",
              "      <td>2</td>\n",
              "      <td>0</td>\n",
              "      <td>0</td>\n",
              "      <td>0</td>\n",
              "      <td>0</td>\n",
              "      <td>0</td>\n",
              "    </tr>\n",
              "    <tr>\n",
              "      <th>2</th>\n",
              "      <td>04-03-2020</td>\n",
              "      <td>2</td>\n",
              "      <td>0</td>\n",
              "      <td>0</td>\n",
              "      <td>0</td>\n",
              "      <td>0</td>\n",
              "      <td>0</td>\n",
              "    </tr>\n",
              "    <tr>\n",
              "      <th>3</th>\n",
              "      <td>05-03-2020</td>\n",
              "      <td>2</td>\n",
              "      <td>0</td>\n",
              "      <td>0</td>\n",
              "      <td>0</td>\n",
              "      <td>0</td>\n",
              "      <td>0</td>\n",
              "    </tr>\n",
              "    <tr>\n",
              "      <th>4</th>\n",
              "      <td>06-03-2020</td>\n",
              "      <td>4</td>\n",
              "      <td>2</td>\n",
              "      <td>0</td>\n",
              "      <td>0</td>\n",
              "      <td>0</td>\n",
              "      <td>0</td>\n",
              "    </tr>\n",
              "  </tbody>\n",
              "</table>\n",
              "</div>"
            ],
            "text/plain": [
              "      tanggal  total_kasus  ...  total_meninggal  meninggal_harian\n",
              "0  02-03-2020            2  ...                0                 0\n",
              "1  03-03-2020            2  ...                0                 0\n",
              "2  04-03-2020            2  ...                0                 0\n",
              "3  05-03-2020            2  ...                0                 0\n",
              "4  06-03-2020            4  ...                0                 0\n",
              "\n",
              "[5 rows x 7 columns]"
            ]
          },
          "metadata": {
            "tags": []
          },
          "execution_count": 36
        }
      ]
    },
    {
      "cell_type": "code",
      "metadata": {
        "id": "0SF4uDe-OyBM",
        "colab_type": "code",
        "colab": {
          "base_uri": "https://localhost:8080/",
          "height": 295
        },
        "outputId": "f2095ce2-5b21-4fa1-eab3-361e7e20bf6b"
      },
      "source": [
        "plt.plot(df['total_kasus'],color='r',label='Total Meninggal')\n",
        "plt.plot(df['total_sembuh'],color='g',label='Total Meninggal')\n",
        "plt.plot(df['total_meninggal'],color='k',label='Total Meninggal')\n",
        "plt.title('Trend Covid-19 Indonesia')\n",
        "plt.xlabel('Hari sejak 2 Maret 2020')\n",
        "plt.ylabel('Jumlah kasus')\n",
        "plt.legend()\n",
        "plt.show()"
      ],
      "execution_count": 39,
      "outputs": [
        {
          "output_type": "display_data",
          "data": {
            "image/png": "[encoded data removed]",
            "text/plain": [
              "<Figure size 432x288 with 1 Axes>"
            ]
          },
          "metadata": {
            "tags": [],
            "needs_background": "light"
          }
        }
      ]
    },
    {
      "cell_type": "code",
      "metadata": {
        "id": "_iB1dkXxQQr1",
        "colab_type": "code",
        "colab": {
          "base_uri": "https://localhost:8080/",
          "height": 295
        },
        "outputId": "607490e1-972f-4d03-de02-38fcd1c26e61"
      },
      "source": [
        "plt.plot(df['kasus_harian'],color='r',label='Kasus Harian')\n",
        "plt.plot(df['sembuh_harian'],color='g',label='Sembuh Harian')\n",
        "plt.plot(df['meninggal_harian'],color='k',label='Meninggal Harian')\n",
        "plt.title('Trend Covid-19 Indonesia')\n",
        "plt.xlabel('Hari sejak 2 Maret 2020')\n",
        "plt.ylabel('Jumlah kasus')\n",
        "plt.legend()\n",
        "plt.show()"
      ],
      "execution_count": 40,
      "outputs": [
        {
          "output_type": "display_data",
          "data": {
            "image/png": "[encoded data removed]",
            "text/plain": [
              "<Figure size 432x288 with 1 Axes>"
            ]
          },
          "metadata": {
            "tags": [],
            "needs_background": "light"
          }
        }
      ]
    }
  ]
}